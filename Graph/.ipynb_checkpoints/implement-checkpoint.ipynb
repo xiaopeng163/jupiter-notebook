{
 "cells": [
  {
   "cell_type": "code",
   "execution_count": 13,
   "metadata": {
    "collapsed": false
   },
   "outputs": [],
   "source": [
    "class Vertex(object):\n",
    "    \n",
    "    def __init__(self, key):\n",
    "        self.id = key\n",
    "        self.connected_to = {}\n",
    "        \n",
    "    def add_neighbor(self, nbr, weight=0):\n",
    "        self.connected_to[nbr] = weight\n",
    "    \n",
    "    def get_connections(self):\n",
    "        return self.connected_to.keys()\n",
    "    \n",
    "    def get_id(self):\n",
    "        return self.id\n",
    "    \n",
    "    def get_weight(self,nbr):\n",
    "        return self.connected_to[nbr]\n",
    "    \n",
    "    def __str__(self):\n",
    "        return str(self.id) + ' connected to ' + str([x.id for x in self.connected_to.keys()])"
   ]
  },
  {
   "cell_type": "code",
   "execution_count": 14,
   "metadata": {
    "collapsed": true
   },
   "outputs": [],
   "source": [
    "vetex = Vertex(1)"
   ]
  },
  {
   "cell_type": "code",
   "execution_count": 15,
   "metadata": {
    "collapsed": false
   },
   "outputs": [
    {
     "data": {
      "text/plain": [
       "1"
      ]
     },
     "execution_count": 15,
     "metadata": {},
     "output_type": "execute_result"
    }
   ],
   "source": [
    "vetex.get_id()"
   ]
  },
  {
   "cell_type": "code",
   "execution_count": 16,
   "metadata": {
    "collapsed": false
   },
   "outputs": [
    {
     "name": "stdout",
     "output_type": "stream",
     "text": [
      "1 connected to []\n"
     ]
    }
   ],
   "source": [
    "print vetex"
   ]
  },
  {
   "cell_type": "code",
   "execution_count": 17,
   "metadata": {
    "collapsed": true
   },
   "outputs": [],
   "source": [
    "vetex.add_neighbor(2, 5)"
   ]
  },
  {
   "cell_type": "code",
   "execution_count": 18,
   "metadata": {
    "collapsed": false
   },
   "outputs": [
    {
     "data": {
      "text/plain": [
       "[2]"
      ]
     },
     "execution_count": 18,
     "metadata": {},
     "output_type": "execute_result"
    }
   ],
   "source": [
    "vetex.get_connections()"
   ]
  },
  {
   "cell_type": "code",
   "execution_count": 19,
   "metadata": {
    "collapsed": false
   },
   "outputs": [
    {
     "data": {
      "text/plain": [
       "5"
      ]
     },
     "execution_count": 19,
     "metadata": {},
     "output_type": "execute_result"
    }
   ],
   "source": [
    "vetex.get_weight(2)"
   ]
  },
  {
   "cell_type": "code",
   "execution_count": 25,
   "metadata": {
    "collapsed": true
   },
   "outputs": [],
   "source": [
    "class Graph(object):\n",
    "    \n",
    "    def __init__(self):\n",
    "        \n",
    "        self.vert_list = {}\n",
    "        self.num_vertices = 0\n",
    "    \n",
    "    def add_vertex(self, key):\n",
    "        self.num_vertices += 1\n",
    "        new_vertex = Vertex(key)\n",
    "        self.vert_list[key] = new_vertex\n",
    "        return new_vertex\n",
    "    \n",
    "    def get_vertex(self, n):\n",
    "        if n in self.vert_list:\n",
    "            return self.vert_list[n]\n",
    "        else:\n",
    "            return None\n",
    "    def __contains__(self, n):\n",
    "        return n in self.vert_list\n",
    "    \n",
    "    def add_edge(self, f, t , cost=0):\n",
    "        if f not in self.vert_list:\n",
    "            nv = self.add_vertex(f)\n",
    "        if t not in self.vert_list:\n",
    "            nv = self.add_vertex(t)\n",
    "        self.vert_list[f].add_neighbor(self.vert_list[t], cost)\n",
    "        \n",
    "    def get_vertices(self):\n",
    "        return self.vert_list.keys()\n",
    "    \n",
    "    def __iter__(self):\n",
    "        return iter(self.vert_list.values())"
   ]
  },
  {
   "cell_type": "code",
   "execution_count": 26,
   "metadata": {
    "collapsed": true
   },
   "outputs": [],
   "source": [
    "g = Graph()\n",
    "for i in range(6):\n",
    "    g.add_vertex(i)\n",
    "    "
   ]
  },
  {
   "cell_type": "code",
   "execution_count": 27,
   "metadata": {
    "collapsed": false
   },
   "outputs": [
    {
     "data": {
      "text/plain": [
       "<__main__.Graph at 0x1062d77d0>"
      ]
     },
     "execution_count": 27,
     "metadata": {},
     "output_type": "execute_result"
    }
   ],
   "source": [
    "g"
   ]
  },
  {
   "cell_type": "code",
   "execution_count": 28,
   "metadata": {
    "collapsed": false
   },
   "outputs": [
    {
     "data": {
      "text/plain": [
       "{0: <__main__.Vertex at 0x1062d7910>,\n",
       " 1: <__main__.Vertex at 0x1062d7810>,\n",
       " 2: <__main__.Vertex at 0x1062d7890>,\n",
       " 3: <__main__.Vertex at 0x1062d7a50>,\n",
       " 4: <__main__.Vertex at 0x1062d7a90>,\n",
       " 5: <__main__.Vertex at 0x1062d7850>}"
      ]
     },
     "execution_count": 28,
     "metadata": {},
     "output_type": "execute_result"
    }
   ],
   "source": [
    "g.vert_list"
   ]
  },
  {
   "cell_type": "code",
   "execution_count": 29,
   "metadata": {
    "collapsed": false
   },
   "outputs": [],
   "source": [
    "g.add_edge(1, 2, 10)"
   ]
  },
  {
   "cell_type": "code",
   "execution_count": 31,
   "metadata": {
    "collapsed": false
   },
   "outputs": [
    {
     "data": {
      "text/plain": [
       "<__main__.Vertex at 0x1062d7810>"
      ]
     },
     "execution_count": 31,
     "metadata": {},
     "output_type": "execute_result"
    }
   ],
   "source": [
    "g.get_vertex(1)"
   ]
  },
  {
   "cell_type": "code",
   "execution_count": 32,
   "metadata": {
    "collapsed": false
   },
   "outputs": [
    {
     "name": "stdout",
     "output_type": "stream",
     "text": [
      "0 connected to []\n",
      "1 connected to [2]\n",
      "2 connected to []\n",
      "3 connected to []\n",
      "4 connected to []\n",
      "5 connected to []\n"
     ]
    }
   ],
   "source": [
    "for i in g:\n",
    "    print i\n",
    "    "
   ]
  },
  {
   "cell_type": "code",
   "execution_count": null,
   "metadata": {
    "collapsed": true
   },
   "outputs": [],
   "source": []
  }
 ],
 "metadata": {
  "kernelspec": {
   "display_name": "Python [Root]",
   "language": "python",
   "name": "Python [Root]"
  },
  "language_info": {
   "codemirror_mode": {
    "name": "ipython",
    "version": 2
   },
   "file_extension": ".py",
   "mimetype": "text/x-python",
   "name": "python",
   "nbconvert_exporter": "python",
   "pygments_lexer": "ipython2",
   "version": "2.7.12"
  }
 },
 "nbformat": 4,
 "nbformat_minor": 0
}
